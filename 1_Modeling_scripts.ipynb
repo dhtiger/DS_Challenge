{
  "metadata": {
    "kernelspec": {
      "language": "python",
      "display_name": "Python 3",
      "name": "python3"
    },
    "language_info": {
      "name": "python",
      "version": "3.7.12",
      "mimetype": "text/x-python",
      "codemirror_mode": {
        "name": "ipython",
        "version": 3
      },
      "pygments_lexer": "ipython3",
      "nbconvert_exporter": "python",
      "file_extension": ".py"
    },
    "colab": {
      "provenance": [],
      "collapsed_sections": []
    }
  },
  "nbformat_minor": 0,
  "nbformat": 4,
  "cells": [
    {
      "cell_type": "markdown",
      "source": [
        "## Modeling modules"
      ],
      "metadata": {
        "id": "PTlu-hPk30aN"
      }
    },
    {
      "cell_type": "code",
      "source": [
        "from google.colab import drive\n",
        "drive.mount('/content/drive')"
      ],
      "metadata": {
        "colab": {
          "base_uri": "https://localhost:8080/"
        },
        "id": "GHp9aqZCz3tP",
        "outputId": "073bcbe1-476e-4bf2-f493-6466877df3e4"
      },
      "execution_count": 18,
      "outputs": [
        {
          "output_type": "stream",
          "name": "stdout",
          "text": [
            "Drive already mounted at /content/drive; to attempt to forcibly remount, call drive.mount(\"/content/drive\", force_remount=True).\n"
          ]
        }
      ]
    },
    {
      "cell_type": "code",
      "source": [
        "# importing libraries\n",
        "import pandas as pd\n",
        "import numpy as np\n",
        "import matplotlib.pyplot as plt\n",
        "import seaborn as sns\n",
        "from sklearn.cluster import KMeans\n",
        "from sklearn.metrics import silhouette_score\n",
        "\n",
        "from sklearn.linear_model import LinearRegression\n",
        "import statsmodels.api as sm\n",
        "from sklearn.utils.validation import check_array\n",
        "from sklearn.metrics import mean_squared_error, r2_score\n",
        "import xgboost as xg\n",
        "from math import sqrt\n",
        "\n",
        "from xgboost import plot_importance"
      ],
      "metadata": {
        "id": "fY6R_8FdozDP"
      },
      "execution_count": 66,
      "outputs": []
    },
    {
      "cell_type": "code",
      "source": [
        "def read_Data(sales_path, item_cat_path, item_path, shop_path, test_path):\n",
        "  \"\"\"\n",
        "    Function to read all the dataset and merge them to one\n",
        "    1. Sales Data\n",
        "    2. Item_category Data\n",
        "    3. Shop data\n",
        "    4. Item_category_df\n",
        "  \"\"\"\n",
        "  sales_df = pd.read_csv(sales_path)\n",
        "  item_cat_df = pd.read_csv(item_cat_path)\n",
        "  items_df = pd.read_csv(item_path)\n",
        "  shops_df = pd.read_csv(shop_path)\n",
        "  test_df = pd.read_csv(test_path)\n",
        "\n",
        "  final_df = pd.merge(sales_df,items_df,how='left',on='item_id') # sales df + item_df\n",
        "  final_df = pd.merge(final_df, item_cat_df, how='left', on='item_category_id') # sales df + item_df + item_cat_df\n",
        "  final_df = pd.merge(final_df, shops_df, how='left', on = 'shop_id') # sales df + item_df + item_cat_df + shop_df\n",
        "  return final_df, test_df\n"
      ],
      "metadata": {
        "id": "RcmqzI6fe9TW"
      },
      "execution_count": 20,
      "outputs": []
    },
    {
      "cell_type": "code",
      "source": [
        "def fix_DataType(sales_df):\n",
        "  # converting datetime column to correct format\n",
        "  sales_df['date'] = pd.to_datetime(sales_df['date'],format='%d.%m.%Y')\n",
        "  # print(sales_df.info())\n",
        "  return sales_df"
      ],
      "metadata": {
        "id": "6a_y41z-SqKX"
      },
      "execution_count": 42,
      "outputs": []
    },
    {
      "cell_type": "code",
      "source": [
        "def cap_Outlier(lvled_data):\n",
        "  \"\"\"\n",
        "    Function to cap outliers with 99th percentile (upper) and 0 (-ve values)\n",
        "  \"\"\"\n",
        "\n",
        "  lvled_data.loc[lvled_data['item_price'] < 0,'item_price'] = 0.01\n",
        "  percentiles = lvled_data['item_price'].quantile([0.99]).values\n",
        "  lvled_data.loc[lvled_data['item_price'] >= percentiles[0],'item_price'] = percentiles[0]\n",
        "\n",
        "  lvled_data.loc[lvled_data['item_cnt_day'] < 0,'item_price'] = 0.01\n",
        "  percentiles_cnt = lvled_data['item_cnt_day'].quantile([0.99]).values\n",
        "  lvled_data.loc[lvled_data['item_cnt_day'] >= percentiles_cnt[0],'item_cnt_day'] = percentiles_cnt[0]\n",
        "\n",
        "  return lvled_data"
      ],
      "metadata": {
        "id": "QwdHrmVWf28A"
      },
      "execution_count": 62,
      "outputs": []
    },
    {
      "cell_type": "code",
      "source": [
        "def drop_Outlier(lvled_data):\n",
        "  \"\"\"\n",
        "    Function to cap outliers with 99th percentile (upper) and 0 (-ve values)\n",
        "  \"\"\"\n",
        "  percentiles_price = lvled_data['item_price'].quantile([0.99]).values\n",
        "  percentiles_cnt = lvled_data['item_cnt_day'].quantile([0.99]).values\n",
        "\n",
        "  lvled_data = lvled_data[lvled_data['item_price'] <= percentiles_price[0]]\n",
        "  lvled_data = lvled_data[lvled_data['item_price'] >= 0]\n",
        "\n",
        "  lvled_data = lvled_data[lvled_data['item_cnt_day'] <= percentiles_cnt[0]]\n",
        "  lvled_data = lvled_data[lvled_data['item_cnt_day'] >= 0]\n",
        "\n",
        "  return lvled_data\n"
      ],
      "metadata": {
        "id": "4fXH297Ef6it"
      },
      "execution_count": 23,
      "outputs": []
    },
    {
      "cell_type": "code",
      "source": [
        "def create_Features(final_df):\n",
        "  \"\"\"\n",
        "    Function to create features:\n",
        "      1. Date featues \n",
        "      2. Proportion Features\n",
        "      3. Shop Clusters (Item clusters are already present as item_category_id)\n",
        "  \"\"\"\n",
        "\n",
        "  ## 1. creating date features\n",
        "  final_df['week'] = final_df['date'].dt.week\n",
        "  final_df['weekday'] = final_df['date'].dt.weekday\n",
        "  final_df['month'] = final_df['date'].dt.month\n",
        "  final_df['year'] = final_df['date'].dt.year\n",
        "\n",
        "\n",
        "  ## 2. sales(count and revenue) proportion of each item sold compared to whole sales volume on that shop\n",
        "  # creating the day-level item_count, item_price sum dataframe\n",
        "  day_levl_sum_df = final_df.groupby(['date', 'shop_id']).agg({'item_cnt_day':'sum', 'item_price':'sum'}).rename(columns={'item_cnt_day':'item_cnt_day_sum', 'item_price':'item_price_sum'}).reset_index()\n",
        "  \n",
        "  final_df_prop = pd.merge(final_df, day_levl_sum_df, how='inner', left_on=['date', 'shop_id'], right_on=['date', 'shop_id']) ## Merging day-level with final_df\n",
        "\n",
        "  final_df_prop['price_prop'] = (final_df_prop['item_price'] / final_df_prop['item_price_sum'])*100 # creating the proportion columns out of price\n",
        "\n",
        "\n",
        "\n",
        "  ## 3. clustering of shops based on count of unique items in the shop and total sales\n",
        "  shop_item_df = final_df_prop.groupby(['shop_id','item_id'], as_index=False).agg({'item_cnt_day':'sum', 'item_price':'sum'}).rename(columns={'item_cnt_day':'item_cnt_day_sum', 'item_price':'item_price_sum'})\n",
        "  \n",
        "  # grouping based on shops: getting unique item_ids, total sum of count sales, total revenue \n",
        "  shop_grp_df = shop_item_df.groupby(['shop_id'], as_index=False).agg({'item_id':pd.Series.nunique, 'item_cnt_day_sum':'sum', 'item_price_sum': 'sum'})\n",
        " \n",
        "  # kmeans for clustering\n",
        "  range_n_clusters = range(2,50)\n",
        "  dataToFit = shop_grp_df[['item_id', 'item_cnt_day_sum', 'item_price_sum']]\n",
        "  best_clusters = 0                      \n",
        "  previous_silh_avg = 0.0\n",
        "\n",
        "  for n_clusters in range_n_clusters:\n",
        "      clusterer = KMeans(n_clusters=n_clusters)\n",
        "      cluster_labels = clusterer.fit_predict(dataToFit)\n",
        "      silhouette_avg = silhouette_score(dataToFit, cluster_labels)\n",
        "\n",
        "      if silhouette_avg > previous_silh_avg:\n",
        "          previous_silh_avg = silhouette_avg\n",
        "          best_clusters = n_clusters\n",
        "\n",
        "  # Final Kmeans for best_clusters\n",
        "  kmeans = KMeans(n_clusters=best_clusters, random_state=0).fit(dataToFit)\n",
        "  shop_grp_df['shop_clusters'] = kmeans.predict(dataToFit).tolist()\n",
        "  shop_grp_df.drop(['item_id', 'item_cnt_day_sum', 'item_price_sum'], axis=1, inplace=True)\n",
        "\n",
        "  df_date_prop_clust = pd.merge(final_df_prop, shop_grp_df, how='inner', left_on=['shop_id'], right_on=['shop_id']) ## Merging day-level with final_df\n",
        "\n",
        "  ## selecting only required features: dropping ['date', 'item_name', 'item_category_name', 'shop_name', 'week', 'weekday', 'item_cnt_day_sum', 'item_price_sum']\n",
        "  df = df_date_prop_clust[['date_block_num', 'shop_id', 'item_id', 'item_price', 'item_cnt_day', 'item_category_id', 'month', 'year', 'price_prop', 'shop_clusters']]\n",
        "  \n",
        "  return df\n",
        "\n"
      ],
      "metadata": {
        "id": "oCBv0K8Kf-7Q"
      },
      "execution_count": 24,
      "outputs": []
    },
    {
      "cell_type": "code",
      "source": [
        "def grouped_Data(final_df):\n",
        "  \"\"\"\n",
        "     grouping data and selecting sum, mean and first values\n",
        "  \"\"\"\n",
        "  df_grp = final_df.groupby(\n",
        "      [\"date_block_num\", \"shop_id\", \"item_id\"]).agg({\"item_price\": \"sum\",\"item_cnt_day\": \"sum\", 'item_category_id':'first', 'month':'first', \\\n",
        "                                                     'year':'first', 'price_prop':'mean', 'shop_clusters':'first'}).reset_index()\n",
        "\n",
        "  df_grp = df_grp.sort_values(by=['date_block_num'], ascending=True).reset_index(drop=True)\n",
        "  return df_grp"
      ],
      "metadata": {
        "id": "-KoFTJKtgAqq"
      },
      "execution_count": 25,
      "outputs": []
    },
    {
      "cell_type": "code",
      "source": [
        "def prepare_Dependent_Independent_vars(data):\n",
        "  \"\"\"\n",
        "    To prepare the dependent and independant variables\n",
        "  \"\"\"\n",
        "  data2 = data.drop('date_block_num', axis=1)\n",
        "  x=data2.drop('item_cnt_day',axis=1)\n",
        "  y=data2[['item_cnt_day']]\n",
        "\n",
        "  return x, y"
      ],
      "metadata": {
        "id": "YAkxUYTBBrs-"
      },
      "execution_count": 26,
      "outputs": []
    },
    {
      "cell_type": "code",
      "source": [
        "def prepare_Train_Test_split(df, use_cols, thresh):\n",
        "  \"\"\"\n",
        "    Function to build train-test split\n",
        "  \"\"\"\n",
        "  model_data1 = df[use_cols]\n",
        "  train_data = model_data1[model_data1['date_block_num'] <= thresh]\n",
        "  print(train_data.shape)\n",
        "  test_data = model_data1[model_data1['date_block_num'] > thresh]\n",
        "  print(test_data.shape)\n",
        "\n",
        "  # fixing train data\n",
        "  x_train, y_train = prepare_Dependent_Independent_vars(train_data)\n",
        "\n",
        "  # Fixing test data\n",
        "  x_test, y_test = prepare_Dependent_Independent_vars(test_data)\n",
        "\n",
        "\n",
        "  return x_train, y_train, x_test, y_test\n"
      ],
      "metadata": {
        "id": "UIJtkEPK5_aU"
      },
      "execution_count": 27,
      "outputs": []
    },
    {
      "cell_type": "code",
      "source": [
        "def LR_Model(x_train, y_train, x_test, y_test):\n",
        "  \"\"\"\n",
        "    Function to test the prediction from Linear Regression\n",
        "  \"\"\"\n",
        "  print('Linear Reg')\n",
        "  lin_reg = LinearRegression().fit(x_train, y_train)\n",
        "  y_predict = lin_reg.predict(x_test)\n",
        "\n",
        "  rms = sqrt(mean_squared_error(y_test, y_predict))\n",
        "  print(\"RMSE for Linear regressor is: \",rms)\n",
        "\n",
        "  r2_scoree = r2_score(y_test, y_predict)\n",
        "  print(\"R2 square for Linear regressor is: \",r2_scoree)"
      ],
      "metadata": {
        "id": "KpCSJOIg5aPD"
      },
      "execution_count": 28,
      "outputs": []
    },
    {
      "cell_type": "code",
      "source": [
        "def LR_Model_OLS(x_train, y_train, x_test, y_test):\n",
        "  x_train = sm.add_constant(x_train, has_constant='add')\n",
        "  lin_reg = sm.OLS(y_train, x_train)\n",
        "  model = lin_reg.fit()\n",
        "  model.summary()"
      ],
      "metadata": {
        "id": "96sJnjDUtgXc"
      },
      "execution_count": 29,
      "outputs": []
    },
    {
      "cell_type": "code",
      "source": [
        "def XGB_Model(x_train, y_train, x_test, y_test):\n",
        "  \"\"\"\n",
        "    Function to test the prediction from XGB\n",
        "  \"\"\"\n",
        "  print(\"XGBoost\")\n",
        "  xgb_r = xg.XGBRegressor(objective ='reg:linear',\n",
        "                  n_estimators = 10, seed = 123).fit(x_train, y_train)\n",
        "  y_predict = xgb_r.predict(x_test)\n",
        "\n",
        "  rms = sqrt(mean_squared_error(y_test, y_predict))\n",
        "  print(\"RMSE for XGB regressor is: \",rms)\n",
        "  r2_scoree = r2_score(y_test, y_predict)\n",
        "  print(\"R2 for XGB regressor square is: \",r2_scoree)\n",
        "\n",
        "  return xgb_r"
      ],
      "metadata": {
        "id": "bvdIi5e--hX5"
      },
      "execution_count": 30,
      "outputs": []
    },
    {
      "cell_type": "code",
      "source": [
        "def final_model_prep(data, use_cols, test_df):\n",
        "  \"\"\"\n",
        "    Function to create the final model\n",
        "  \"\"\"\n",
        "\n",
        "  model_data1 = data[use_cols]\n",
        "  x, y = prepare_Dependent_Independent_vars(model_data1)\n",
        "  model = xg.XGBRegressor(objective ='reg:linear',\n",
        "                  n_estimators = 10, seed = 123).fit(x, y)\n",
        "  return model\n"
      ],
      "metadata": {
        "id": "MqtVMtaJBmO6"
      },
      "execution_count": 31,
      "outputs": []
    },
    {
      "cell_type": "code",
      "source": [
        "def kaggle_Submission(model_data1, use_cols, test_df):\n",
        "  \"\"\"\n",
        "    Modeling building and Submission csv preparation\n",
        "  \"\"\"\n",
        "  print(\"Kaggle Submission\")\n",
        "  final_model  = final_model_prep(model_data1, use_cols, test_df)\n",
        "  \n",
        "  # creating unique column for grouping\n",
        "  test_df['lvl'] = test_df['shop_id'].astype(str) + '_' + test_df['item_id'].astype(str)\n",
        "  model_data1['lvl'] = model_data1['shop_id'].astype(str) + '_' + model_data1['item_id'].astype(str)\n",
        "\n",
        "  # grouping data before adding features to Test Data\n",
        "  # We have to group, as same shop_id, item_id is coming in every month\n",
        "  map_data = model_data1.groupby(['lvl']).agg(\n",
        "      item_price  = ('item_price', np.mean),\n",
        "      price_prop  = ('price_prop', np.mean),\n",
        "      shop_clusters  = ('shop_clusters', pd.Series.mode)\n",
        "  ).reset_index()\n",
        "\n",
        "  # merging with test data\n",
        "  updated_test_data = pd.merge(test_df, map_data,  how='left', on=['lvl'])\n",
        "\n",
        "  # preparing test data with train features\n",
        "  updated_test_data_new = updated_test_data[['shop_id', 'item_id','item_price', \\\n",
        "        'price_prop', 'shop_clusters']]\n",
        "\n",
        "  # predicting on test data\n",
        "  y_kaggle_pred = final_model.predict(updated_test_data_new)\n",
        "\n",
        "  # submission file\n",
        "  submit = pd.DataFrame(columns = ('ID', 'item_cnt_month'))\n",
        "  submit['item_cnt_month'] = y_kaggle_pred\n",
        "  submit['ID'] = updated_test_data['ID']\n",
        "  submit.to_csv(\"submit.csv\", index=False)"
      ],
      "metadata": {
        "id": "ncfy3QBYClux"
      },
      "execution_count": 32,
      "outputs": []
    },
    {
      "cell_type": "code",
      "source": [
        "def modeling_function(data, thresh_train):\n",
        "  ## Modeling- cap data \n",
        "  use_cols = ['date_block_num', 'shop_id', 'item_id', 'item_price', 'price_prop', 'shop_clusters', 'item_cnt_day']\n",
        "\n",
        "  # train_thresh = 80\n",
        "  x_train, y_train, x_test, y_test = prepare_Train_Test_split(data, use_cols, thresh_train)\n",
        "\n",
        "  # trying LR model\n",
        "  LR_Model(x_train, y_train, x_test, y_test)\n",
        "\n",
        "  # trying XGB Model\n",
        "  # xgb_model = xgb_r\n",
        "  xgb_model = XGB_Model(x_train, y_train, x_test, y_test)\n",
        "\n",
        "  # Kaggle Submission CSV\n",
        "  kaggle_Submission(data, use_cols, test_df)\n",
        "\n",
        "  return xgb_model"
      ],
      "metadata": {
        "id": "1G0CMLpjGZ4K"
      },
      "execution_count": 33,
      "outputs": []
    },
    {
      "cell_type": "code",
      "source": [
        "## Reading whole data\n",
        "\n",
        "sales_path = '/content/drive/MyDrive/Projects/competitive-data-science-predict-future-sales/sales_train.csv'\n",
        "item_cat_path = '/content/drive/MyDrive/Projects/competitive-data-science-predict-future-sales/item_categories.csv'\n",
        "item_path = '/content/drive/MyDrive/Projects/competitive-data-science-predict-future-sales/items.csv'\n",
        "shop_path = '/content/drive/MyDrive/Projects/competitive-data-science-predict-future-sales/shops.csv'\n",
        "test_path = '/content/drive/MyDrive/Projects/competitive-data-science-predict-future-sales/test.csv'\n",
        "\n",
        "# reading the data\n",
        "data, test_df = read_Data(sales_path, item_cat_path, item_path, shop_path, test_path)\n",
        "data_fix = fix_DataType(data) # for fixing data types\n",
        "data_fix.head()\n",
        "\n",
        "# setting threshhold for train-test split\n",
        "thresh_train = int((data_fix.date_block_num.nunique()) * 0.8)"
      ],
      "metadata": {
        "id": "KEOX1CfJgCdY"
      },
      "execution_count": 58,
      "outputs": []
    },
    {
      "cell_type": "code",
      "source": [
        "# # preparing dataset after capping item_count, item_price outliers\n",
        "cap_outlier_data = cap_Outlier(data_fix)\n",
        "cap_outlier_data_feat = create_Features(cap_outlier_data)\n",
        "cap_outlier_grp_data = grouped_Data(cap_outlier_data_feat)\n",
        "cap_outlier_data_xgb_model = modeling_function(cap_outlier_grp_data, thresh_train)\n",
        "\n"
      ],
      "metadata": {
        "colab": {
          "base_uri": "https://localhost:8080/"
        },
        "id": "mwpKpjzQVb3T",
        "outputId": "78733cec-b89a-404c-fdea-7a9586e07add"
      },
      "execution_count": 63,
      "outputs": [
        {
          "output_type": "stream",
          "name": "stderr",
          "text": [
            "/usr/local/lib/python3.7/dist-packages/ipykernel_launcher.py:10: FutureWarning: Series.dt.weekofyear and Series.dt.week have been deprecated.  Please use Series.dt.isocalendar().week instead.\n",
            "  # Remove the CWD from sys.path while we load stuff.\n"
          ]
        },
        {
          "output_type": "stream",
          "name": "stdout",
          "text": [
            "(1416773, 7)\n",
            "(192351, 7)\n",
            "Linear Reg\n",
            "RMSE for Linear regressor is:  3.324037517966325\n",
            "R2 square for Linear regressor is:  0.21902815766802608\n",
            "XGBoost\n",
            "[16:22:21] WARNING: /workspace/src/objective/regression_obj.cu:152: reg:linear is now deprecated in favor of reg:squarederror.\n",
            "RMSE for XGB regressor is:  2.7373844604775046\n",
            "R2 for XGB regressor square is:  0.4703668780789211\n",
            "Kaggle Submission\n",
            "[16:22:30] WARNING: /workspace/src/objective/regression_obj.cu:152: reg:linear is now deprecated in favor of reg:squarederror.\n",
            "(1416773, 7)\n",
            "(192351, 7)\n",
            "Linear Reg\n",
            "RMSE for Linear regressor is:  3.324037517966325\n",
            "R2 square for Linear regressor is:  0.21902815766802608\n",
            "XGBoost\n",
            "[16:23:53] WARNING: /workspace/src/objective/regression_obj.cu:152: reg:linear is now deprecated in favor of reg:squarederror.\n",
            "RMSE for XGB regressor is:  2.7373844604775046\n",
            "R2 for XGB regressor square is:  0.4703668780789211\n",
            "Kaggle Submission\n",
            "[16:24:03] WARNING: /workspace/src/objective/regression_obj.cu:152: reg:linear is now deprecated in favor of reg:squarederror.\n"
          ]
        }
      ]
    },
    {
      "cell_type": "code",
      "source": [
        "# preparing dataset after dropping item_count, item_price outliers\n",
        "drop_outlier_data = drop_Outlier(data_fix)\n",
        "drop_outlier_data_feat = create_Features(drop_outlier_data)\n",
        "drop_outlier_grp_data = grouped_Data(drop_outlier_data_feat)\n",
        "thresh_train = int((drop_outlier_grp_data.date_block_num.nunique()) * 0.8)\n",
        "print(\"drop outlier\")\n",
        "# modeling_function(drop_outlier_grp_data, thresh_train)\n",
        "drop_outlier_data_xgb_model = modeling_function(drop_outlier_grp_data, thresh_train)"
      ],
      "metadata": {
        "colab": {
          "base_uri": "https://localhost:8080/"
        },
        "id": "A2wkWxgTVfxt",
        "outputId": "e8e19efd-d9df-4979-f22c-38fe59df0aed"
      },
      "execution_count": 65,
      "outputs": [
        {
          "output_type": "stream",
          "name": "stderr",
          "text": [
            "/usr/local/lib/python3.7/dist-packages/ipykernel_launcher.py:10: FutureWarning: Series.dt.weekofyear and Series.dt.week have been deprecated.  Please use Series.dt.isocalendar().week instead.\n",
            "  # Remove the CWD from sys.path while we load stuff.\n"
          ]
        },
        {
          "output_type": "stream",
          "name": "stdout",
          "text": [
            "drop outlier\n",
            "(1415965, 7)\n",
            "(192261, 7)\n",
            "Linear Reg\n",
            "RMSE for Linear regressor is:  3.3230647060759524\n",
            "R2 square for Linear regressor is:  0.21991689235562062\n",
            "XGBoost\n",
            "[16:28:06] WARNING: /workspace/src/objective/regression_obj.cu:152: reg:linear is now deprecated in favor of reg:squarederror.\n",
            "RMSE for XGB regressor is:  2.6912013687033287\n",
            "R2 for XGB regressor square is:  0.48837039357349454\n",
            "Kaggle Submission\n",
            "[16:28:16] WARNING: /workspace/src/objective/regression_obj.cu:152: reg:linear is now deprecated in favor of reg:squarederror.\n"
          ]
        }
      ]
    },
    {
      "cell_type": "markdown",
      "source": [
        "#### Feature Importance for Drop outlier Model"
      ],
      "metadata": {
        "id": "3zk25Hctbw_N"
      }
    },
    {
      "cell_type": "code",
      "source": [
        "## Importance from drop outlier model\n",
        "print(\"drop outlier feat \\n\",drop_outlier_data_xgb_model.get_booster().get_score(importance_type='total_cover'))"
      ],
      "metadata": {
        "colab": {
          "base_uri": "https://localhost:8080/"
        },
        "id": "ml-b6-tNbZpr",
        "outputId": "8b2b36f6-7c4b-46ec-9f48-3b6eff78c424"
      },
      "execution_count": 70,
      "outputs": [
        {
          "output_type": "stream",
          "name": "stdout",
          "text": [
            "drop outlier feat \n",
            " {'item_price': 28261284.0, 'price_prop': 14200664.0, 'item_id': 17002.0}\n"
          ]
        }
      ]
    },
    {
      "cell_type": "code",
      "source": [
        "plot_importance(drop_outlier_data_xgb_model, )"
      ],
      "metadata": {
        "colab": {
          "base_uri": "https://localhost:8080/",
          "height": 312
        },
        "id": "EhVG5QQZbqA7",
        "outputId": "0d55ce1d-f4ad-4693-8968-368557099307"
      },
      "execution_count": 71,
      "outputs": [
        {
          "output_type": "execute_result",
          "data": {
            "text/plain": [
              "<matplotlib.axes._subplots.AxesSubplot at 0x7fccdb7a0310>"
            ]
          },
          "metadata": {},
          "execution_count": 71
        },
        {
          "output_type": "display_data",
          "data": {
            "text/plain": [
              "<Figure size 432x288 with 1 Axes>"
            ],
            "image/png": "[encoded data removed]"
          },
          "metadata": {
            "needs_background": "light"
          }
        }
      ]
    },
    {
      "cell_type": "markdown",
      "source": [
        "#### Feature Importance for Cap outlier Model"
      ],
      "metadata": {
        "id": "Lf8mAz0Fb35y"
      }
    },
    {
      "cell_type": "code",
      "source": [
        "## Importance from drop outlier model\n",
        "print(\"drop outlier feat \\n\",cap_outlier_data_xgb_model.get_booster().get_score(importance_type='total_cover'))"
      ],
      "metadata": {
        "id": "3YA2HPWO4JbV",
        "colab": {
          "base_uri": "https://localhost:8080/"
        },
        "outputId": "34a1101d-80e9-42fa-fa18-a545d30881df"
      },
      "execution_count": 72,
      "outputs": [
        {
          "output_type": "stream",
          "name": "stdout",
          "text": [
            "drop outlier feat \n",
            " {'item_price': 28287628.0, 'price_prop': 14199936.0, 'item_id': 15626.0}\n"
          ]
        }
      ]
    },
    {
      "cell_type": "code",
      "source": [
        "plot_importance(cap_outlier_data_xgb_model, )"
      ],
      "metadata": {
        "colab": {
          "base_uri": "https://localhost:8080/",
          "height": 312
        },
        "id": "dBKM8SZ0b7Fq",
        "outputId": "ff85d14a-10ac-4eaa-ba23-89b24e4afe3c"
      },
      "execution_count": 73,
      "outputs": [
        {
          "output_type": "execute_result",
          "data": {
            "text/plain": [
              "<matplotlib.axes._subplots.AxesSubplot at 0x7fcce4d9ff90>"
            ]
          },
          "metadata": {},
          "execution_count": 73
        },
        {
          "output_type": "display_data",
          "data": {
            "text/plain": [
              "<Figure size 432x288 with 1 Axes>"
            ],
            "image/png": "[encoded data removed]"
          },
          "metadata": {
            "needs_background": "light"
          }
        }
      ]
    },
    {
      "cell_type": "markdown",
      "source": [
        "## Insights generation"
      ],
      "metadata": {
        "id": "c3R8kKKbZhGb"
      }
    },
    {
      "cell_type": "markdown",
      "source": [
        "**Observations out of EDA**:\n",
        "\n",
        "\n",
        "*   The correlation between prices and items_cnt shows that on prices increases on increase in items_cnt sale, for each and every shop. No discount on bulk purchases.\n",
        "*   Similar correlation observed when checked across months for all shops among prices and items_cnt i.e., item_cnt_sales the item_prices increases or vice-versa.\n",
        "*   Outlier Analysis on 'item_cnt_day' shows outliers both negative and beyond 500 (just 12 records out of 29 Lkhs records), whereas the 99th percentile value is just 5\n",
        "*   Outlier Analysis on 'item_price' shows outliers both negative and beyond 600 (just 240 records out of 29Lks records) which the also the 99th percentile value\n",
        "*   We observed that Saturday, Sunday have higher sales price, as well as highest item_cnt_day\n",
        "*   We observed that almost every year, january and dec months get the highest sales_price and item_cnt_day\n",
        "\n",
        "\n",
        "**Feature Creation: (Based on EDA observations)**\n",
        "\n",
        "\n",
        "*   Created features out of the date column to as we have observed correlation among month and item sales\n",
        "*   created features out of price as their proportion sales (revenue of an item in that shop on that day / total revenue of shop on that day)\n",
        "\n",
        "**Final Dataset: (Based on EDA Observations)**\n",
        "  - Created two different datasets for Model building and validation\n",
        "    > 1. dropped the outliers based on item_cnt_day, item_price column\n",
        "    > 2. capped the outliers based on item_cnt_day, item_price column\n",
        "\n",
        "  - train-validation Dataset:\n",
        "    > We have selected initial 80% of months (first 27 months) for training and remaining 20% for validation\n",
        "\n",
        "  - Used Linear Regression and XGBoost Regressor for final prediction. \n",
        "    > Linear Regression was not able to predict neither train data nor test data (high bias)\n",
        "    > To overcome, we used XGB, which is a boosting ensemble technique, thus handling the bias problem.\n",
        "\n",
        "  - Final prediction shows below results:\n",
        "    > XGB outperformed LR \n",
        "    > dropped outlier dataset gave better results then capped outliers\n",
        "    > Final model (XGB on dropped dataset) gave below results:\n",
        "      RMSE for XGB regressor is:  2.6912013687033287\n",
        "      R2 for XGB regressor square is:  0.48837039357349454\n",
        "\n",
        "  - Kaggle Submission:\n",
        "    > For kaggle submission we prepared the test dataset, and created the features from train dataset (based on shop_id, item_id)\n",
        "    > used drop-outlier module on whole train data (33 months) and XGB for training.\n",
        "    > Our final Kaggle public score is: 3.98630 (the less the better)"
      ],
      "metadata": {
        "id": "Mv3GclSpfZfH"
      }
    }
  ]
}